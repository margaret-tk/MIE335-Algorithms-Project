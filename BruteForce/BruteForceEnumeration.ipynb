{
  "nbformat": 4,
  "nbformat_minor": 0,
  "metadata": {
    "colab": {
      "name": "BruteForceEnumeration.ipynb",
      "provenance": [],
      "collapsed_sections": []
    },
    "kernelspec": {
      "name": "python3",
      "display_name": "Python 3"
    }
  },
  "cells": [
    {
      "cell_type": "code",
      "metadata": {
        "id": "MZ7t7YAZ1Ggf",
        "colab_type": "code",
        "outputId": "21f998e7-f20e-4bdd-baa6-cba1197f79b5",
        "colab": {
          "base_uri": "https://localhost:8080/",
          "height": 34
        }
      },
      "source": [
        "import numpy as np\n",
        "import time as time\n",
        "import itertools"
      ],
      "execution_count": 221,
      "outputs": [
        {
          "output_type": "stream",
          "text": [
            "Drive already mounted at /content/gdrive/; to attempt to forcibly remount, call drive.mount(\"/content/gdrive/\", force_remount=True).\n"
          ],
          "name": "stdout"
        }
      ]
    },
    {
      "cell_type": "code",
      "metadata": {
        "id": "NLvOxe6uOgI0",
        "colab_type": "code",
        "colab": {}
      },
      "source": [
        "def BruteForce(input):\n",
        "\n",
        "  num, b, c, a = importlist(input)\n",
        "  x_values = list(itertools.product([0, 1], repeat = num))\n",
        "\n",
        "  feasible_z = []\n",
        "\n",
        "  for x in range(len(x_values)):\n",
        "      constraints_satisfied = 0\n",
        "      for k in range(len(b)):\n",
        "          if np.dot(x_values[x], a[k]) <= b[k]:\n",
        "              constraints_satisfied += 1\n",
        "      if constraints_satisfied == len(b):\n",
        "          obj = []\n",
        "          for z in c:\n",
        "              obj.append(np.dot(x_values[x], z))\n",
        "          \n",
        "          if obj not in feasible_z:\n",
        "              feasible_z.append(obj)\n",
        "\n",
        "  feasible_z = np.array(feasible_z)\n",
        "  is_efficient = np.ones(feasible_z.shape[0], dtype = bool)\n",
        "    \n",
        "  for i, j in enumerate(feasible_z):\n",
        "      if is_efficient[i]:\n",
        "          is_efficient[is_efficient] = np.any(feasible_z[is_efficient] < j , axis=1)\n",
        "          is_efficient[i] = True\n",
        "    \n",
        "  return feasible_z[is_efficient]"
      ],
      "execution_count": 0,
      "outputs": []
    }
  ]
}
