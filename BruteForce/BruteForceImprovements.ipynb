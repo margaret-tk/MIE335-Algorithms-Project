{
  "nbformat": 4,
  "nbformat_minor": 0,
  "metadata": {
    "colab": {
      "name": "BruteForceFinal.ipynb",
      "provenance": [],
      "collapsed_sections": []
    },
    "kernelspec": {
      "name": "python3",
      "display_name": "Python 3"
    }
  },
  "cells": [
    {
      "cell_type": "code",
      "metadata": {
        "id": "ogytcW801_L9",
        "colab_type": "code",
        "colab": {}
      },
      "source": [
        "import numpy as np\n",
        "import time as time\n",
        "import matplotlib.pyplot as plt\n",
        "import math\n",
        "import itertools"
      ],
      "execution_count": 0,
      "outputs": []
    },
    {
      "cell_type": "code",
      "metadata": {
        "id": "xQR64wYJ24Kc",
        "colab_type": "code",
        "colab": {}
      },
      "source": [
        "def BruteForceSorted(input_):\n",
        "\n",
        "  # num, b, c, a = importlist(input_)\n",
        "  num, b, c, a = input_\n",
        "  x_values = list(itertools.product([0, 1], repeat = num))\n",
        "  \n",
        "  feasible_z = []\n",
        "\n",
        "  for x in range(len(x_values)):\n",
        "      constraints_satisfied = 0\n",
        "      for k in range(len(b)):\n",
        "          if np.dot(x_values[x], a[k]) <= b[k]:\n",
        "              constraints_satisfied += 1\n",
        "      if constraints_satisfied == len(b): # only if all the constraints are satisfied\n",
        "          obj = []\n",
        "          for z in c:\n",
        "              obj.append(np.dot(x_values[x], z))\n",
        "          \n",
        "          if obj not in feasible_z:\n",
        "            feasible_z.append(obj)\n",
        "\n",
        "  feasible_z = np.array(feasible_z)\n",
        "  feasible_z = feasible_z[np.argsort(feasible_z[:, i])]\n",
        "    \n",
        "  next_point = 0  # Next index in the NDP array to search for \n",
        "\n",
        "  while next_point < len(feasible_z):\n",
        "    ndp = np.any(feasible_z < feasible_z[next_point], axis = 1)\n",
        "    ndp[next_point] = True\n",
        "    feasible_z = feasible_z[ndp]\n",
        "    next_point = np.sum(ndp[:next_point]) + 1\n",
        "\n",
        "  return feasible_z"
      ],
      "execution_count": 0,
      "outputs": []
    },
    {
      "cell_type": "code",
      "metadata": {
        "id": "Yj-jmFd9O8Xp",
        "colab_type": "code",
        "colab": {}
      },
      "source": [
        "def BruteForceRemoveInPlace(input_):\n",
        "\n",
        "  # num, b, c, a = importlist(input)\n",
        "  num, b, c, a = input_\n",
        "  x_values = list(itertools.product([0, 1], repeat = num))\n",
        "  \n",
        "  feasible_z = []\n",
        "\n",
        "  for x in range(len(x_values)):\n",
        "      constraints_satisfied = 0\n",
        "      for k in range(len(b)):\n",
        "          if np.dot(x_values[x], a[k]) <= b[k]:\n",
        "              constraints_satisfied += 1\n",
        "      if constraints_satisfied == len(b): # only if all the constraints are satisfied\n",
        "          obj = []\n",
        "          for z in c:\n",
        "              obj.append(np.dot(x_values[x], z))\n",
        "          \n",
        "          if obj not in feasible_z:\n",
        "            feasible_z.append(obj)\n",
        "\n",
        "  feasible_z = np.array(feasible_z)\n",
        "  NDPs = np.arange(feasible_z.shape[0])\n",
        "  next_point = 0  # Next index in the NDP array to search for \n",
        "  \n",
        "  while next_point < len(feasible_z):\n",
        "    ndp = np.any(feasible_z < feasible_z[next_point], axis = 1)\n",
        "    ndp[next_point] = True\n",
        "    NDPs = NDPs[ndp]  # Remove dominated points\n",
        "    feasible_z = feasible_z[ndp]\n",
        "    next_point = np.sum(ndp[:next_point]) + 1\n",
        "\n",
        "  return feasible_z"
      ],
      "execution_count": 0,
      "outputs": []
    },
    {
      "cell_type": "code",
      "metadata": {
        "id": "uuBoWlO8R_z6",
        "colab_type": "code",
        "colab": {}
      },
      "source": [
        "def BruteForceInitial(input_):\n",
        "\n",
        "  # num, b, c, a = importlist(input)\n",
        "  num, b, c, a = input_\n",
        "  x_values = list(itertools.product([0, 1], repeat = num))\n",
        "  \n",
        "  feasible_z = []\n",
        "\n",
        "  for x in range(len(x_values)):\n",
        "      constraints_satisfied = 0\n",
        "      for k in range(len(b)):\n",
        "          if np.dot(x_values[x], a[k]) <= b[k]:\n",
        "              constraints_satisfied += 1\n",
        "      if constraints_satisfied == len(b): # only if all the constraints are satisfied\n",
        "          obj = []\n",
        "          for z in c:\n",
        "              obj.append(np.dot(x_values[x], z))\n",
        "          \n",
        "          if obj not in feasible_z: # don't allow duplicates\n",
        "              feasible_z.append(obj)\n",
        "\n",
        "  feasible_z = np.array(feasible_z)\n",
        "  NDPs = np.ones(feasible_z.shape[0], dtype = bool)\n",
        "  \n",
        "  for i, j in enumerate(feasible_z):\n",
        "    if NDPs[i]: \n",
        "      NDPs[NDPs] = np.any(feasible_z[NDPs] < j , axis=1)\n",
        "      NDPs[i] = True\n",
        "\n",
        "  return feasible_z[NDPs]"
      ],
      "execution_count": 0,
      "outputs": []
    },
    {
      "cell_type": "code",
      "metadata": {
        "id": "ozexaxk-9tfD",
        "colab_type": "code",
        "colab": {}
      },
      "source": [
        "def randInstanceGen(n,m,J,U):\n",
        "    # Reset seed for safety\n",
        "    np.random.seed(0)\n",
        "    # Set seed\n",
        "    np.random.seed(61836)\n",
        "    \n",
        "    c = np.random.randint(1,U+1,(J,n))\n",
        "    a = np.random.randint(1,U+1,(n,m))\n",
        "    \n",
        "    b = np.max(a, axis=0)\n",
        "    \n",
        "    for i in range(0, m):\n",
        "        if math.ceil(np.sum(a[:,i])/2) > b[i]:\n",
        "            b[i] = math.ceil(np.sum(a[:,i])/2)\n",
        "    \n",
        "    return c, a, b"
      ],
      "execution_count": 0,
      "outputs": []
    },
    {
      "cell_type": "code",
      "metadata": {
        "id": "wKM7D5O7TOWs",
        "colab_type": "code",
        "colab": {
          "base_uri": "https://localhost:8080/",
          "height": 34
        },
        "outputId": "363e3dc6-e3c3-4d13-d115-7bdc925ec60b"
      },
      "source": [
        "c, a, b = randInstanceGen(15, 1, 3, 40)\n",
        "times(setup(c, a, b))"
      ],
      "execution_count": 102,
      "outputs": [
        {
          "output_type": "execute_result",
          "data": {
            "text/plain": [
              "(6.214513778686523, 6.088672637939453, 6.070337533950806)"
            ]
          },
          "metadata": {
            "tags": []
          },
          "execution_count": 102
        }
      ]
    },
    {
      "cell_type": "code",
      "metadata": {
        "id": "g9AUXHvO91wY",
        "colab_type": "code",
        "colab": {}
      },
      "source": [
        "def setup(c, a, b):\n",
        "  c = c*-1\n",
        "  b = list(b)\n",
        "  c = list(c)\n",
        "\n",
        "  for j in range(len(c)):\n",
        "    c[j] = list(c[j])\n",
        "\n",
        "  att = []\n",
        "  for i in range(a.shape[1]):\n",
        "    att.append(list(a[:, i]))\n",
        "  \n",
        "  items = (len(c[0]), b, c, att)\n",
        "\n",
        "  return items"
      ],
      "execution_count": 0,
      "outputs": []
    },
    {
      "cell_type": "code",
      "metadata": {
        "id": "5KLLgOHa9zvh",
        "colab_type": "code",
        "colab": {}
      },
      "source": [
        "def Complexity(m, num_obj, U):\n",
        "  \n",
        "  times = []\n",
        "  num_items = []\n",
        "\n",
        "  for ind in range(1, 51):\n",
        "    c, a, b = randInstanceGen(10, ind, num_obj, U)\n",
        "    num_items.append(ind)\n",
        "    items = setup(c, a, b)\n",
        "    start = time.time()\n",
        "    ndf = BruteForce(items)\n",
        "    end = time.time() - start\n",
        "    times.append(end)\n",
        "\n",
        "  plt.plot(num_items, times)\n",
        "  plt.xlabel(\"Number of Constraints\")\n",
        "  plt.ylabel(\"Time (s)\")\n",
        "  plt.title(\"Brute Force Complexity\")"
      ],
      "execution_count": 0,
      "outputs": []
    },
    {
      "cell_type": "code",
      "metadata": {
        "id": "8WufEMDg94YS",
        "colab_type": "code",
        "outputId": "76972921-5456-4978-90a0-1ae3b9cae58b",
        "colab": {
          "base_uri": "https://localhost:8080/",
          "height": 295
        }
      },
      "source": [
        "Complexity(2, 2, 40)"
      ],
      "execution_count": 112,
      "outputs": [
        {
          "output_type": "display_data",
          "data": {
            "image/png": "[encoded data removed]",
            "text/plain": [
              "<Figure size 432x288 with 1 Axes>"
            ]
          },
          "metadata": {
            "tags": [],
            "needs_background": "light"
          }
        }
      ]
    },
    {
      "cell_type": "code",
      "metadata": {
        "id": "mnXhNKjcPQPt",
        "colab_type": "code",
        "colab": {}
      },
      "source": [
        "def times(items):\n",
        "  s1 = time.time()\n",
        "  ndf = BruteForceInitial(items)\n",
        "  time1 = time.time() - s1\n",
        "\n",
        "  s2 = time.time()\n",
        "  ndf = BruteForceRemoveInPlace(items)\n",
        "  time2 = time.time() - s2\n",
        "\n",
        "  s3 = time.time()\n",
        "  ndf = BruteForceSorted(items)\n",
        "  time3 = time.time() - s3\n",
        "\n",
        "  return time1, time2, time3"
      ],
      "execution_count": 0,
      "outputs": []
    }
  ]
}
