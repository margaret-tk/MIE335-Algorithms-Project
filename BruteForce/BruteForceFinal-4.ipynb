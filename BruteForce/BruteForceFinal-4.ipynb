{
 "cells": [
  {
   "cell_type": "code",
   "execution_count": 1,
   "metadata": {},
   "outputs": [],
   "source": [
    "import numpy as np\n",
    "import time as time\n",
    "import matplotlib.pyplot as plt\n",
    "import math\n",
    "import itertools"
   ]
  },
  {
   "cell_type": "code",
   "execution_count": 30,
   "metadata": {},
   "outputs": [],
   "source": [
    "def BruteForce(input_):\n",
    "\n",
    "    num, b, c, a = importlist(input_)\n",
    "    x_values = list(itertools.product([0, 1], repeat = num))\n",
    "  \n",
    "    feasible_z = []\n",
    "\n",
    "    for x in range(len(x_values)):\n",
    "        constraints_satisfied = 0\n",
    "        for k in range(len(b)):\n",
    "            if np.dot(x_values[x], a[k]) <= b[k]:\n",
    "                constraints_satisfied += 1\n",
    "        if constraints_satisfied == len(b): # only if all the constraints are satisfied\n",
    "            obj = []\n",
    "            for z in c:\n",
    "                obj.append(np.dot(x_values[x], z))\n",
    "          \n",
    "            if obj not in feasible_z:\n",
    "                feasible_z.append(obj)\n",
    "\n",
    "    feasible_z = np.array(feasible_z)\n",
    "    feasible_z = feasible_z[np.argsort(feasible_z[:, 0])]\n",
    "    \n",
    "    next_point = 0  # Next index in the NDP array to search for \n",
    "\n",
    "    while next_point < len(feasible_z):\n",
    "        ndp = np.any(feasible_z < feasible_z[next_point], axis = 1)\n",
    "        ndp[next_point] = True\n",
    "        feasible_z = feasible_z[ndp]\n",
    "        next_point = np.sum(ndp[:next_point]) + 1\n",
    "\n",
    "    return feasible_z"
   ]
  },
  {
   "cell_type": "code",
   "execution_count": 17,
   "metadata": {},
   "outputs": [],
   "source": [
    "def randInstanceGen(n,m,J,U):\n",
    "    # Reset seed for safety\n",
    "    np.random.seed(0)\n",
    "    # Set seed\n",
    "    np.random.seed(61836)\n",
    "    \n",
    "    c = np.random.randint(1,U+1,(J,n))\n",
    "    a = np.random.randint(1,U+1,(n,m))\n",
    "    \n",
    "    b = np.max(a, axis=0)\n",
    "    \n",
    "    for i in range(0, m):\n",
    "        if math.ceil(np.sum(a[:,i])/2) > b[i]:\n",
    "            b[i] = math.ceil(np.sum(a[:,i])/2)\n",
    "    \n",
    "    return c, a, b"
   ]
  },
  {
   "cell_type": "code",
   "execution_count": 19,
   "metadata": {},
   "outputs": [],
   "source": [
    "c, a, b = randInstanceGen(15, 1, 3, 40)"
   ]
  },
  {
   "cell_type": "code",
   "execution_count": 20,
   "metadata": {},
   "outputs": [],
   "source": [
    "def setup(c, a, b):\n",
    "    c = c*-1\n",
    "    b = list(b)\n",
    "    c = list(c)\n",
    "\n",
    "    for j in range(len(c)):\n",
    "        c[j] = list(c[j])\n",
    "\n",
    "    att = []\n",
    "    for i in range(a.shape[1]):\n",
    "        att.append(list(a[:, i]))\n",
    "  \n",
    "    items = (len(c[0]), b, c, att)\n",
    "\n",
    "    return items"
   ]
  },
  {
   "cell_type": "code",
   "execution_count": 28,
   "metadata": {},
   "outputs": [],
   "source": [
    "def Complexity(m, num_obj, U):\n",
    "  \n",
    "    times = []\n",
    "    num_items = []\n",
    "\n",
    "    for ind in range(1, 16):\n",
    "        c, a, b = randInstanceGen(ind, 1, num_obj, U)\n",
    "        num_items.append(ind)\n",
    "        items = setup(c, a, b)\n",
    "        start = time.time()\n",
    "        ndf = BruteForce(items)\n",
    "        end = time.time() - start\n",
    "        times.append(end)\n",
    "\n",
    "    plt.plot(num_items, times)\n",
    "    plt.xlabel(\"Number of Items (n)\")\n",
    "    plt.ylabel(\"Time (s)\")\n",
    "    plt.title(\"Brute Force Complexity\")\n",
    "    plt.savefig('BF_complexity_n.pdf')"
   ]
  },
  {
   "cell_type": "code",
   "execution_count": 29,
   "metadata": {},
   "outputs": [
    {
     "data": {
      "image/png": "[encoded data removed]",
      "text/plain": [
       "<Figure size 432x288 with 1 Axes>"
      ]
     },
     "metadata": {
      "needs_background": "light"
     },
     "output_type": "display_data"
    }
   ],
   "source": [
    "Complexity(2, 2, 40)"
   ]
  },
  {
   "cell_type": "code",
   "execution_count": null,
   "metadata": {},
   "outputs": [],
   "source": []
  }
 ],
 "metadata": {
  "kernelspec": {
   "display_name": "Python 3",
   "language": "python",
   "name": "python3"
  },
  "language_info": {
   "codemirror_mode": {
    "name": "ipython",
    "version": 3
   },
   "file_extension": ".py",
   "mimetype": "text/x-python",
   "name": "python",
   "nbconvert_exporter": "python",
   "pygments_lexer": "ipython3",
   "version": "3.7.3"
  }
 },
 "nbformat": 4,
 "nbformat_minor": 2
}
