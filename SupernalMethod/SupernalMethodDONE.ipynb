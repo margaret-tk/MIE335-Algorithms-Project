{
 "cells": [
  {
   "cell_type": "code",
   "execution_count": 64,
   "metadata": {},
   "outputs": [],
   "source": [
    "import numpy as np\n",
    "a = np.array([[-20,-2,-2],[-15,-3,-3],[-13,-3,-3],[-10,-10,-10],[-10,-9,-11],[-10,-8,-12],[-10,-6,-14],[-10,-5,-15],[-8,-20,-20],[-8,-20,-20]])"
   ]
  },
  {
   "cell_type": "code",
   "execution_count": 65,
   "metadata": {},
   "outputs": [
    {
     "data": {
      "text/plain": [
       "array([[-20,  -2,  -2],\n",
       "       [-15,  -3,  -3],\n",
       "       [-13,  -3,  -3],\n",
       "       [-10, -10, -10],\n",
       "       [-10,  -9, -11],\n",
       "       [-10,  -8, -12],\n",
       "       [-10,  -6, -14],\n",
       "       [-10,  -5, -15],\n",
       "       [ -8, -20, -20],\n",
       "       [ -8, -20, -20]])"
      ]
     },
     "execution_count": 65,
     "metadata": {},
     "output_type": "execute_result"
    }
   ],
   "source": [
    "a"
   ]
  },
  {
   "cell_type": "code",
   "execution_count": 77,
   "metadata": {},
   "outputs": [],
   "source": [
    "def insertinto(a, line):\n",
    "    from math import floor as fl\n",
    "    #first find middle\n",
    "    if a is None:\n",
    "        return line.reshape(-1,3)\n",
    "    start = 0\n",
    "    end = a.shape[0]\n",
    "    \n",
    "    if line[0] > a[-1,0]:\n",
    "        return np.vstack((a,line))\n",
    "    if line[0] < a[0,0]:\n",
    "        return np.vstack((line,a))\n",
    "    while end > start:\n",
    "        pull = fl((end+start)/2.0)\n",
    "        if a[pull,0] == line[0]:\n",
    "            break\n",
    "        elif a[pull,0] < line[0]:\n",
    "            if a[pull+1,0] > line[0]:\n",
    "                return np.insert(a,pull+1,line,axis=0)\n",
    "            start = pull+1\n",
    "        else:\n",
    "            if a[pull-1,0] < line[0]:\n",
    "                return np.insert(a,pull,line,axis=0)\n",
    "            end = pull-1\n",
    "    #now go backwards:\n",
    "    anchor = pull\n",
    "    if end == start:\n",
    "        anchor = end\n",
    "        pull = anchor\n",
    "    while True:\n",
    "        pull -= 1\n",
    "        if pull == -1:\n",
    "            anchorstart = 0\n",
    "            break\n",
    "        if a[pull,0] != line[0]:\n",
    "            anchorstart = pull + 1\n",
    "            break\n",
    "    pull = anchor\n",
    "    while True:\n",
    "        pull += 1\n",
    "        if pull == a.shape[0]:\n",
    "            anchorend = pull - 1\n",
    "            break\n",
    "        if a[pull,0] != line[0]:\n",
    "            anchorend = pull - 1\n",
    "            break\n",
    "    start = anchorstart\n",
    "    end = anchorend\n",
    "    \n",
    "    level1start = anchorstart\n",
    "    level1end = anchorend\n",
    "    \n",
    "    \n",
    "    if line[1] > a[end,1]:\n",
    "        return np.insert(a,end+1,line,axis=0)\n",
    "    if line[1] < a[start,1]:\n",
    "        return np.insert(a,start,line,axis=0)\n",
    "    while True:\n",
    "        pull = fl((end+start)/2.0)\n",
    "        if a[pull,1] == line[1]:\n",
    "            break\n",
    "        elif a[pull,1] < line[1]:\n",
    "            if a[pull+1,1] > line[1]:\n",
    "                return np.insert(a,pull+1,line,axis=0)\n",
    "            start = pull+1\n",
    "        else:\n",
    "            if a[pull-1,1] < line[1]:\n",
    "                return np.insert(a,pull,line,axis=0)\n",
    "            end = pull-1\n",
    "    anchor = pull\n",
    "    if end == start:\n",
    "        anchor = end\n",
    "        pull = anchor\n",
    "    print(anchor)\n",
    "    while True:\n",
    "        pull -= 1\n",
    "        if pull == -1:\n",
    "            anchorstart = level1start\n",
    "            break\n",
    "        if a[pull,1] != line[1]:\n",
    "            anchorstart = pull + 1\n",
    "            break\n",
    "    pull = anchor\n",
    "    \n",
    "    while True:\n",
    "        pull += 1\n",
    "        if pull == a.shape[0]:\n",
    "            anchorend = level1end\n",
    "            break\n",
    "        if a[pull,1] != line[1]:\n",
    "            anchorend = pull - 1\n",
    "            break\n",
    "    start = anchorstart\n",
    "    end = anchorend\n",
    "    \n",
    "\n",
    "    if line[2] > a[end,2]:\n",
    "        return np.insert(a,end+1,line,axis=0)\n",
    "    if line[2] < a[start,2]:\n",
    "        return np.insert(a,start,line,axis=0)\n",
    "    while True:\n",
    "        pull = fl((end+start)/2.0)\n",
    "        if a[pull,2] == line[2]:\n",
    "            print(\"FUCKING CRY\")\n",
    "        elif a[pull,2] < line[2]:\n",
    "            if a[pull+1,2] > line[2]:\n",
    "                return np.insert(a,pull+1,line,axis=0)\n",
    "            start = pull+1\n",
    "        else:\n",
    "            if a[pull-1,2] < line[2]:\n",
    "                return np.insert(a,pull,line,axis=0)\n",
    "            end = pull-1"
   ]
  },
  {
   "cell_type": "code",
   "execution_count": 79,
   "metadata": {},
   "outputs": [
    {
     "name": "stdout",
     "output_type": "stream",
     "text": [
      "6\n"
     ]
    },
    {
     "data": {
      "text/plain": [
       "array([[-20,  -2,  -2],\n",
       "       [-15,  -3,  -3],\n",
       "       [-13,  -3,  -3],\n",
       "       [-10, -10, -10],\n",
       "       [-10,  -9, -11],\n",
       "       [-10,  -8, -12],\n",
       "       [-10,  -6, -14],\n",
       "       [-10,  -6, -13],\n",
       "       [-10,  -5, -15],\n",
       "       [ -8, -20, -20],\n",
       "       [ -8, -20, -20]])"
      ]
     },
     "execution_count": 79,
     "metadata": {},
     "output_type": "execute_result"
    }
   ],
   "source": [
    "insertinto(a,[-10,-6,-13])"
   ]
  },
  {
   "cell_type": "code",
   "execution_count": 61,
   "metadata": {},
   "outputs": [],
   "source": [
    "test = np.array([[-7116.0, 0, 0], [-6877.0, -7060.0, 0], [-6877.0, 0, -5079.0], [-7116.0, -7049.0, 0], [-6811.0, -7060.0, 0], [-6811.0, -7049.0, -5079.0], [-6835.0, 0, -5432.0], [-6776.0, -6303.0, -5432.0], [-6776.0, 0, -5559.0], [-6710.0, -7199.0, -5144.0], [-6682.0, -7340.0, -5144.0], [-6682.0, -7199.0, -5158.0], [-6608.0, 0, -5596.0], [-6591.0, -6080.0, -5596.0], [-6591.0, 0, -5694.0], [-6535.0, 0, -5774.0], [-6521.0, -6451.0, -5774.0], [-6521.0, 0, -5914.0], [-6535.0, 0, -5863.0], [-6471.0, -6451.0, -5863.0], [-6471.0, 0, -5914.0], [-6354.0, -7799.0, 0], [-6242.0, -7833.0, 0], [-6242.0, -7799.0, -4776.0], [-6103.0, -7887.0, -5423.0], [-5940.0, -8079.0, -5423.0], [-5940.0, -7887.0, -5437.0], [-6103.0, -8068.0, -5423.0], [-5722.0, -8079.0, -5423.0], [-5722.0, -8068.0, -5437.0], [-5445.0, -8068.0, -5657.0], [0, -8235.0, -5657.0], [0, -8068.0, -5734.0], [-5034.0, -7828.0, -6152.0], [0, -7886.0, -6152.0], [0, -7828.0, -6462.0], [-5760.0, -7314.0, -6237.0], [-5474.0, -7320.0, -6237.0], [-5474.0, -7314.0, -6365.0], [-5760.0, -7314.0, -6287.0], [0, -7320.0, -6287.0], [0, -7314.0, -6365.0], [-5952.0, 0, -6291.0], [-5931.0, -6906.0, -6291.0], [-5931.0, 0, -6304.0], [-5789.0, -6797.0, -6291.0], [-5760.0, -7006.0, -6291.0], [-5760.0, -6797.0, -6402.0], [-5789.0, -6797.0, -6365.0], [-5741.0, -7006.0, -6365.0], [-5741.0, -6797.0, -6402.0], [-5301.0, -7228.0, -6365.0], [-5034.0, -7286.0, -6365.0], [-5034.0, -7228.0, -6700.0], [-5301.0, -7228.0, -6462.0], [0, -7286.0, -6462.0], [0, -7228.0, -6700.0], [-5320.0, -7006.0, -6525.0], [-5301.0, -7378.0, -6525.0], [-5301.0, -7006.0, -6540.0], [-5606.0, 0, -6621.0], [-5301.0, -6722.0, -6621.0], [-5301.0, 0, -6635.0], [-5100.0, 0, -6700.0], [0, -7311.0, -6700.0], [0, 0, -6750.0]])"
   ]
  },
  {
   "cell_type": "code",
   "execution_count": 62,
   "metadata": {},
   "outputs": [
    {
     "name": "stdout",
     "output_type": "stream",
     "text": [
      "[[-7116. -7049.     0.]\n",
      " [-7116.     0.     0.]\n",
      " [-6877. -7060.     0.]\n",
      " [-6877.     0. -5079.]\n",
      " [-6835.     0. -5432.]\n",
      " [-6811. -7060.     0.]\n",
      " [-6811. -7049. -5079.]\n",
      " [-6776. -6303. -5432.]\n",
      " [-6776.     0. -5559.]\n",
      " [-6710. -7199. -5144.]\n",
      " [-6682. -7340. -5144.]\n",
      " [-6682. -7199. -5158.]\n",
      " [-6608.     0. -5596.]\n",
      " [-6591. -6080. -5596.]\n",
      " [-6535.     0. -5863.]\n",
      " [-6591.     0. -5694.]\n",
      " [-6535.     0. -5774.]\n",
      " [-6521. -6451. -5774.]\n",
      " [-6521.     0. -5914.]\n",
      " [-6471. -6451. -5863.]\n",
      " [-6471.     0. -5914.]\n",
      " [-6354. -7799.     0.]\n",
      " [-6242. -7833.     0.]\n",
      " [-6242. -7799. -4776.]\n",
      " [-6103. -8068. -5423.]\n",
      " [-6103. -7887. -5423.]\n",
      " [-5952.     0. -6291.]\n",
      " [-5940. -8079. -5423.]\n",
      " [-5940. -7887. -5437.]\n",
      " [-5931. -6906. -6291.]\n",
      " [-5931.     0. -6304.]\n",
      " [-5789. -6797. -6365.]\n",
      " [-5789. -6797. -6291.]\n",
      " [-5760. -7314. -6287.]\n",
      " [-5760. -7314. -6237.]\n",
      " [-5760. -7006. -6291.]\n",
      " [-5760. -6797. -6402.]\n",
      " [-5741. -7006. -6365.]\n",
      " [-5741. -6797. -6402.]\n",
      " [-5722. -8079. -5423.]\n",
      " [-5722. -8068. -5437.]\n",
      " [-5606.     0. -6621.]\n",
      " [-5474. -7320. -6237.]\n",
      " [-5474. -7314. -6365.]\n",
      " [-5445. -8068. -5657.]\n",
      " [-5320. -7006. -6525.]\n",
      " [-5301. -7378. -6525.]\n",
      " [-5301. -7228. -6462.]\n",
      " [-5301. -7228. -6365.]\n",
      " [-5301. -7006. -6540.]\n",
      " [-5301. -6722. -6621.]\n",
      " [-5301.     0. -6635.]\n",
      " [-5100.     0. -6700.]\n",
      " [-5034. -7828. -6152.]\n",
      " [-5034. -7286. -6365.]\n",
      " [-5034. -7228. -6700.]\n",
      " [    0. -8235. -5657.]\n",
      " [    0. -8068. -5734.]\n",
      " [    0. -7886. -6152.]\n",
      " [    0. -7828. -6462.]\n",
      " [    0. -7320. -6287.]\n",
      " [    0. -7314. -6365.]\n",
      " [    0. -7311. -6700.]\n",
      " [    0. -7286. -6462.]\n",
      " [    0. -7228. -6700.]\n",
      " [    0.     0. -6750.]]\n"
     ]
    }
   ],
   "source": [
    "a = None\n",
    "for i in test:\n",
    "    a = insertinto(a,i)\n",
    "print(a)"
   ]
  },
  {
   "cell_type": "code",
   "execution_count": null,
   "metadata": {},
   "outputs": [],
   "source": []
  }
 ],
 "metadata": {
  "kernelspec": {
   "display_name": "Python 3",
   "language": "python",
   "name": "python3"
  },
  "language_info": {
   "codemirror_mode": {
    "name": "ipython",
    "version": 3
   },
   "file_extension": ".py",
   "mimetype": "text/x-python",
   "name": "python",
   "nbconvert_exporter": "python",
   "pygments_lexer": "ipython3",
   "version": "3.7.4"
  }
 },
 "nbformat": 4,
 "nbformat_minor": 4
}
